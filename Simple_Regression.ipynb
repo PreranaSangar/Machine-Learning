{
 "cells": [
  {
   "cell_type": "markdown",
   "id": "222de3ab-f135-490a-9b71-20ef17eb303c",
   "metadata": {},
   "source": [
    "# Simple Linear Regression"
   ]
  },
  {
   "cell_type": "raw",
   "id": "9fe6625b-1646-42e4-ad6f-8b10745a23ab",
   "metadata": {},
   "source": [
    "SLR model predicts the relationship between any two variables \n",
    "\n",
    "independent variable (x)\n",
    "dependent variable (y)"
   ]
  },
  {
   "cell_type": "code",
   "execution_count": 2,
   "id": "6a4e6e7d-3a2d-4af7-b7f4-dce2dc64ff31",
   "metadata": {},
   "outputs": [],
   "source": [
    "import pandas as pd"
   ]
  },
  {
   "cell_type": "code",
   "execution_count": 3,
   "id": "74305c20-1775-400e-bb0e-25648b5c4207",
   "metadata": {},
   "outputs": [],
   "source": [
    "df=pd.read_csv(r'D:\\Desk Data\\Downloads\\PRERANA\\Newspaper.csv')"
   ]
  },
  {
   "cell_type": "code",
   "execution_count": 4,
   "id": "085cd90d-27d7-43f3-8ed0-3aaa9430307c",
   "metadata": {},
   "outputs": [
    {
     "data": {
      "text/html": [
       "<div>\n",
       "<style scoped>\n",
       "    .dataframe tbody tr th:only-of-type {\n",
       "        vertical-align: middle;\n",
       "    }\n",
       "\n",
       "    .dataframe tbody tr th {\n",
       "        vertical-align: top;\n",
       "    }\n",
       "\n",
       "    .dataframe thead th {\n",
       "        text-align: right;\n",
       "    }\n",
       "</style>\n",
       "<table border=\"1\" class=\"dataframe\">\n",
       "  <thead>\n",
       "    <tr style=\"text-align: right;\">\n",
       "      <th></th>\n",
       "      <th>Newspaper</th>\n",
       "      <th>daily</th>\n",
       "      <th>sunday</th>\n",
       "    </tr>\n",
       "  </thead>\n",
       "  <tbody>\n",
       "    <tr>\n",
       "      <th>0</th>\n",
       "      <td>Baltimore Sun</td>\n",
       "      <td>391.952</td>\n",
       "      <td>488.506</td>\n",
       "    </tr>\n",
       "    <tr>\n",
       "      <th>1</th>\n",
       "      <td>Boston Globe</td>\n",
       "      <td>516.981</td>\n",
       "      <td>798.298</td>\n",
       "    </tr>\n",
       "    <tr>\n",
       "      <th>2</th>\n",
       "      <td>Boston Herald</td>\n",
       "      <td>355.628</td>\n",
       "      <td>235.084</td>\n",
       "    </tr>\n",
       "    <tr>\n",
       "      <th>3</th>\n",
       "      <td>Charlotte Observer</td>\n",
       "      <td>238.555</td>\n",
       "      <td>299.451</td>\n",
       "    </tr>\n",
       "    <tr>\n",
       "      <th>4</th>\n",
       "      <td>Chicago Sun Times</td>\n",
       "      <td>537.780</td>\n",
       "      <td>559.093</td>\n",
       "    </tr>\n",
       "    <tr>\n",
       "      <th>5</th>\n",
       "      <td>Chicago Tribune</td>\n",
       "      <td>733.775</td>\n",
       "      <td>1133.249</td>\n",
       "    </tr>\n",
       "    <tr>\n",
       "      <th>6</th>\n",
       "      <td>Cincinnati Enquirer</td>\n",
       "      <td>198.832</td>\n",
       "      <td>348.744</td>\n",
       "    </tr>\n",
       "    <tr>\n",
       "      <th>7</th>\n",
       "      <td>Denver Post</td>\n",
       "      <td>252.624</td>\n",
       "      <td>417.779</td>\n",
       "    </tr>\n",
       "    <tr>\n",
       "      <th>8</th>\n",
       "      <td>Des Moines Register</td>\n",
       "      <td>206.204</td>\n",
       "      <td>344.522</td>\n",
       "    </tr>\n",
       "    <tr>\n",
       "      <th>9</th>\n",
       "      <td>Hartford Courant</td>\n",
       "      <td>231.177</td>\n",
       "      <td>323.084</td>\n",
       "    </tr>\n",
       "    <tr>\n",
       "      <th>10</th>\n",
       "      <td>Houston Chronicle</td>\n",
       "      <td>449.755</td>\n",
       "      <td>620.752</td>\n",
       "    </tr>\n",
       "    <tr>\n",
       "      <th>11</th>\n",
       "      <td>Kansas City Star</td>\n",
       "      <td>288.571</td>\n",
       "      <td>423.305</td>\n",
       "    </tr>\n",
       "    <tr>\n",
       "      <th>12</th>\n",
       "      <td>Los Angeles Daily  News</td>\n",
       "      <td>185.736</td>\n",
       "      <td>202.614</td>\n",
       "    </tr>\n",
       "    <tr>\n",
       "      <th>13</th>\n",
       "      <td>Los Angeles Times</td>\n",
       "      <td>1164.388</td>\n",
       "      <td>1531.527</td>\n",
       "    </tr>\n",
       "    <tr>\n",
       "      <th>14</th>\n",
       "      <td>Miami Herald</td>\n",
       "      <td>444.581</td>\n",
       "      <td>553.479</td>\n",
       "    </tr>\n",
       "    <tr>\n",
       "      <th>15</th>\n",
       "      <td>Minneapolis Star Tribune</td>\n",
       "      <td>412.871</td>\n",
       "      <td>685.975</td>\n",
       "    </tr>\n",
       "    <tr>\n",
       "      <th>16</th>\n",
       "      <td>New Orleans Times-Picayune</td>\n",
       "      <td>272.280</td>\n",
       "      <td>324.241</td>\n",
       "    </tr>\n",
       "    <tr>\n",
       "      <th>17</th>\n",
       "      <td>New York Daily News</td>\n",
       "      <td>781.796</td>\n",
       "      <td>983.240</td>\n",
       "    </tr>\n",
       "    <tr>\n",
       "      <th>18</th>\n",
       "      <td>New York Times</td>\n",
       "      <td>1209.225</td>\n",
       "      <td>1762.015</td>\n",
       "    </tr>\n",
       "    <tr>\n",
       "      <th>19</th>\n",
       "      <td>Newsday</td>\n",
       "      <td>825.512</td>\n",
       "      <td>960.308</td>\n",
       "    </tr>\n",
       "    <tr>\n",
       "      <th>20</th>\n",
       "      <td>Omaha World Herald</td>\n",
       "      <td>223.748</td>\n",
       "      <td>284.611</td>\n",
       "    </tr>\n",
       "    <tr>\n",
       "      <th>21</th>\n",
       "      <td>Orange County Register</td>\n",
       "      <td>354.843</td>\n",
       "      <td>407.760</td>\n",
       "    </tr>\n",
       "    <tr>\n",
       "      <th>22</th>\n",
       "      <td>Philadelphia Inquirer</td>\n",
       "      <td>515.523</td>\n",
       "      <td>982.663</td>\n",
       "    </tr>\n",
       "    <tr>\n",
       "      <th>23</th>\n",
       "      <td>Pittsburgh Press</td>\n",
       "      <td>220.465</td>\n",
       "      <td>557.000</td>\n",
       "    </tr>\n",
       "    <tr>\n",
       "      <th>24</th>\n",
       "      <td>Portland Oregonian</td>\n",
       "      <td>337.672</td>\n",
       "      <td>440.923</td>\n",
       "    </tr>\n",
       "    <tr>\n",
       "      <th>25</th>\n",
       "      <td>Providence Journal-Bulletin</td>\n",
       "      <td>197.120</td>\n",
       "      <td>268.060</td>\n",
       "    </tr>\n",
       "    <tr>\n",
       "      <th>26</th>\n",
       "      <td>Rochester Democrat &amp; Chronicle</td>\n",
       "      <td>133.239</td>\n",
       "      <td>262.048</td>\n",
       "    </tr>\n",
       "    <tr>\n",
       "      <th>27</th>\n",
       "      <td>Rocky Mountain News</td>\n",
       "      <td>374.009</td>\n",
       "      <td>432.502</td>\n",
       "    </tr>\n",
       "    <tr>\n",
       "      <th>28</th>\n",
       "      <td>Sacramento Bee</td>\n",
       "      <td>273.844</td>\n",
       "      <td>338.355</td>\n",
       "    </tr>\n",
       "    <tr>\n",
       "      <th>29</th>\n",
       "      <td>San Francisco Chronicle</td>\n",
       "      <td>570.364</td>\n",
       "      <td>704.322</td>\n",
       "    </tr>\n",
       "    <tr>\n",
       "      <th>30</th>\n",
       "      <td>St. Louis Post-Dispatch</td>\n",
       "      <td>391.286</td>\n",
       "      <td>585.681</td>\n",
       "    </tr>\n",
       "    <tr>\n",
       "      <th>31</th>\n",
       "      <td>St. Paul Pioneer Press</td>\n",
       "      <td>201.860</td>\n",
       "      <td>267.781</td>\n",
       "    </tr>\n",
       "    <tr>\n",
       "      <th>32</th>\n",
       "      <td>Tampa Tribune</td>\n",
       "      <td>321.626</td>\n",
       "      <td>408.343</td>\n",
       "    </tr>\n",
       "    <tr>\n",
       "      <th>33</th>\n",
       "      <td>Washington Post</td>\n",
       "      <td>838.902</td>\n",
       "      <td>1165.567</td>\n",
       "    </tr>\n",
       "  </tbody>\n",
       "</table>\n",
       "</div>"
      ],
      "text/plain": [
       "                         Newspaper     daily    sunday\n",
       "0                    Baltimore Sun   391.952   488.506\n",
       "1                     Boston Globe   516.981   798.298\n",
       "2                    Boston Herald   355.628   235.084\n",
       "3               Charlotte Observer   238.555   299.451\n",
       "4                Chicago Sun Times   537.780   559.093\n",
       "5                  Chicago Tribune   733.775  1133.249\n",
       "6              Cincinnati Enquirer   198.832   348.744\n",
       "7                      Denver Post   252.624   417.779\n",
       "8              Des Moines Register   206.204   344.522\n",
       "9                 Hartford Courant   231.177   323.084\n",
       "10               Houston Chronicle   449.755   620.752\n",
       "11                Kansas City Star   288.571   423.305\n",
       "12         Los Angeles Daily  News   185.736   202.614\n",
       "13               Los Angeles Times  1164.388  1531.527\n",
       "14                    Miami Herald   444.581   553.479\n",
       "15        Minneapolis Star Tribune   412.871   685.975\n",
       "16      New Orleans Times-Picayune   272.280   324.241\n",
       "17             New York Daily News   781.796   983.240\n",
       "18                  New York Times  1209.225  1762.015\n",
       "19                         Newsday   825.512   960.308\n",
       "20              Omaha World Herald   223.748   284.611\n",
       "21          Orange County Register   354.843   407.760\n",
       "22           Philadelphia Inquirer   515.523   982.663\n",
       "23                Pittsburgh Press   220.465   557.000\n",
       "24              Portland Oregonian   337.672   440.923\n",
       "25     Providence Journal-Bulletin   197.120   268.060\n",
       "26  Rochester Democrat & Chronicle   133.239   262.048\n",
       "27             Rocky Mountain News   374.009   432.502\n",
       "28                  Sacramento Bee   273.844   338.355\n",
       "29         San Francisco Chronicle   570.364   704.322\n",
       "30         St. Louis Post-Dispatch   391.286   585.681\n",
       "31          St. Paul Pioneer Press   201.860   267.781\n",
       "32                   Tampa Tribune   321.626   408.343\n",
       "33                 Washington Post   838.902  1165.567"
      ]
     },
     "execution_count": 4,
     "metadata": {},
     "output_type": "execute_result"
    }
   ],
   "source": [
    "df"
   ]
  },
  {
   "cell_type": "code",
   "execution_count": 5,
   "id": "ae2cf1dc-eaf0-4563-9223-7861e833e636",
   "metadata": {},
   "outputs": [],
   "source": [
    "# use case : we are analyzing daily addition with Sunday\n",
    "#addition using newpepar data and linear regression model"
   ]
  },
  {
   "cell_type": "code",
   "execution_count": 6,
   "id": "dd1837f1-4f4f-49ad-90f4-d4be3ce17bf0",
   "metadata": {},
   "outputs": [
    {
     "data": {
      "text/plain": [
       "(34, 3)"
      ]
     },
     "execution_count": 6,
     "metadata": {},
     "output_type": "execute_result"
    }
   ],
   "source": [
    "df.shape # tuple objects are not collable"
   ]
  },
  {
   "cell_type": "code",
   "execution_count": 7,
   "id": "b8a7c076-3d56-4835-b3c2-3b6cf79da703",
   "metadata": {},
   "outputs": [
    {
     "data": {
      "text/plain": [
       "Index(['Newspaper', 'daily', 'sunday'], dtype='object')"
      ]
     },
     "execution_count": 7,
     "metadata": {},
     "output_type": "execute_result"
    }
   ],
   "source": [
    "df.columns"
   ]
  },
  {
   "cell_type": "code",
   "execution_count": 8,
   "id": "fd0c3868-ac8f-4f47-8343-faf90f4b365e",
   "metadata": {},
   "outputs": [
    {
     "data": {
      "text/html": [
       "<div>\n",
       "<style scoped>\n",
       "    .dataframe tbody tr th:only-of-type {\n",
       "        vertical-align: middle;\n",
       "    }\n",
       "\n",
       "    .dataframe tbody tr th {\n",
       "        vertical-align: top;\n",
       "    }\n",
       "\n",
       "    .dataframe thead th {\n",
       "        text-align: right;\n",
       "    }\n",
       "</style>\n",
       "<table border=\"1\" class=\"dataframe\">\n",
       "  <thead>\n",
       "    <tr style=\"text-align: right;\">\n",
       "      <th></th>\n",
       "      <th>daily</th>\n",
       "      <th>sunday</th>\n",
       "    </tr>\n",
       "  </thead>\n",
       "  <tbody>\n",
       "    <tr>\n",
       "      <th>daily</th>\n",
       "      <td>1.000000</td>\n",
       "      <td>0.958154</td>\n",
       "    </tr>\n",
       "    <tr>\n",
       "      <th>sunday</th>\n",
       "      <td>0.958154</td>\n",
       "      <td>1.000000</td>\n",
       "    </tr>\n",
       "  </tbody>\n",
       "</table>\n",
       "</div>"
      ],
      "text/plain": [
       "           daily    sunday\n",
       "daily   1.000000  0.958154\n",
       "sunday  0.958154  1.000000"
      ]
     },
     "execution_count": 8,
     "metadata": {},
     "output_type": "execute_result"
    }
   ],
   "source": [
    "z=df.corr(numeric_only=True)\n",
    "z"
   ]
  },
  {
   "cell_type": "code",
   "execution_count": 9,
   "id": "a7d544b3-6d41-4cc1-a73f-a6faecb34dcc",
   "metadata": {},
   "outputs": [],
   "source": [
    "import seaborn as sns"
   ]
  },
  {
   "cell_type": "code",
   "execution_count": 10,
   "id": "d16754fd-865f-4123-b484-96d82e869e73",
   "metadata": {},
   "outputs": [
    {
     "name": "stderr",
     "output_type": "stream",
     "text": [
      "C:\\Users\\admin\\AppData\\Local\\Temp\\ipykernel_4528\\4104137296.py:1: UserWarning: \n",
      "\n",
      "`distplot` is a deprecated function and will be removed in seaborn v0.14.0.\n",
      "\n",
      "Please adapt your code to use either `displot` (a figure-level function with\n",
      "similar flexibility) or `histplot` (an axes-level function for histograms).\n",
      "\n",
      "For a guide to updating your code to use the new functions, please see\n",
      "https://gist.github.com/mwaskom/de44147ed2974457ad6372750bbe5751\n",
      "\n",
      "  sns.distplot(df['daily'])\n",
      "C:\\Users\\admin\\anaconda3\\Lib\\site-packages\\seaborn\\_oldcore.py:1119: FutureWarning: use_inf_as_na option is deprecated and will be removed in a future version. Convert inf values to NaN before operating instead.\n",
      "  with pd.option_context('mode.use_inf_as_na', True):\n"
     ]
    },
    {
     "data": {
      "text/plain": [
       "<Axes: xlabel='daily', ylabel='Density'>"
      ]
     },
     "execution_count": 10,
     "metadata": {},
     "output_type": "execute_result"
    },
    {
     "data": {
      "image/png": "[encoded data removed]",
      "text/plain": [
       "<Figure size 640x480 with 1 Axes>"
      ]
     },
     "metadata": {},
     "output_type": "display_data"
    }
   ],
   "source": [
    "sns.distplot(df['daily'])\n",
    "# it is combination of histogram and normally distibuted curve"
   ]
  },
  {
   "cell_type": "code",
   "execution_count": 11,
   "id": "2de8aa5e-d081-4220-a26b-9136106b82b6",
   "metadata": {},
   "outputs": [
    {
     "name": "stderr",
     "output_type": "stream",
     "text": [
      "C:\\Users\\admin\\AppData\\Local\\Temp\\ipykernel_4528\\1036117173.py:1: UserWarning: \n",
      "\n",
      "`distplot` is a deprecated function and will be removed in seaborn v0.14.0.\n",
      "\n",
      "Please adapt your code to use either `displot` (a figure-level function with\n",
      "similar flexibility) or `histplot` (an axes-level function for histograms).\n",
      "\n",
      "For a guide to updating your code to use the new functions, please see\n",
      "https://gist.github.com/mwaskom/de44147ed2974457ad6372750bbe5751\n",
      "\n",
      "  sns.distplot(df['sunday'])\n",
      "C:\\Users\\admin\\anaconda3\\Lib\\site-packages\\seaborn\\_oldcore.py:1119: FutureWarning: use_inf_as_na option is deprecated and will be removed in a future version. Convert inf values to NaN before operating instead.\n",
      "  with pd.option_context('mode.use_inf_as_na', True):\n"
     ]
    },
    {
     "data": {
      "text/plain": [
       "<Axes: xlabel='sunday', ylabel='Density'>"
      ]
     },
     "execution_count": 11,
     "metadata": {},
     "output_type": "execute_result"
    },
    {
     "data": {
      "image/png": "[encoded data removed]",
      "text/plain": [
       "<Figure size 640x480 with 1 Axes>"
      ]
     },
     "metadata": {},
     "output_type": "display_data"
    }
   ],
   "source": [
    "sns.distplot(df['sunday'])"
   ]
  },
  {
   "cell_type": "code",
   "execution_count": 12,
   "id": "5ce71e1f-9a7f-409f-b886-9987666b0474",
   "metadata": {},
   "outputs": [],
   "source": [
    "import matplotlib.pyplot as plt"
   ]
  },
  {
   "cell_type": "code",
   "execution_count": 13,
   "id": "3884d646-9b26-43e4-bbf1-92dc13add626",
   "metadata": {},
   "outputs": [
    {
     "data": {
      "text/plain": [
       "<Axes: xlabel='daily', ylabel='sunday'>"
      ]
     },
     "execution_count": 13,
     "metadata": {},
     "output_type": "execute_result"
    },
    {
     "data": {
      "image/png": "[encoded data removed]",
      "text/plain": [
       "<Figure size 640x480 with 1 Axes>"
      ]
     },
     "metadata": {},
     "output_type": "display_data"
    }
   ],
   "source": [
    "sns.regplot(x=df['daily'],y=df['sunday'],data=df)"
   ]
  },
  {
   "cell_type": "code",
   "execution_count": 14,
   "id": "68ac0242-b331-4e6f-8477-f256f75ada86",
   "metadata": {},
   "outputs": [
    {
     "data": {
      "text/plain": [
       "<bound method RegressionModel.fit of <statsmodels.regression.linear_model.OLS object at 0x0000001244DEBD50>>"
      ]
     },
     "execution_count": 14,
     "metadata": {},
     "output_type": "execute_result"
    }
   ],
   "source": [
    "import statsmodels.formula.api as snf \n",
    "model=snf.ols('sunday~daily',data=df).fit\n",
    "model"
   ]
  },
  {
   "cell_type": "code",
   "execution_count": 15,
   "id": "e286e9a3-431c-4531-b63e-2cd6b6eea92b",
   "metadata": {},
   "outputs": [
    {
     "data": {
      "text/plain": [
       "Intercept    13.835630\n",
       "daily         1.339715\n",
       "dtype: float64"
      ]
     },
     "execution_count": 15,
     "metadata": {},
     "output_type": "execute_result"
    }
   ],
   "source": [
    "model().params"
   ]
  },
  {
   "cell_type": "code",
   "execution_count": 16,
   "id": "4b58e74b-2c6f-4dc1-b003-6318998f8cd0",
   "metadata": {},
   "outputs": [
    {
     "data": {
      "text/html": [
       "<div>\n",
       "<style scoped>\n",
       "    .dataframe tbody tr th:only-of-type {\n",
       "        vertical-align: middle;\n",
       "    }\n",
       "\n",
       "    .dataframe tbody tr th {\n",
       "        vertical-align: top;\n",
       "    }\n",
       "\n",
       "    .dataframe thead th {\n",
       "        text-align: right;\n",
       "    }\n",
       "</style>\n",
       "<table border=\"1\" class=\"dataframe\">\n",
       "  <thead>\n",
       "    <tr style=\"text-align: right;\">\n",
       "      <th></th>\n",
       "      <th>daily</th>\n",
       "      <th>sunday</th>\n",
       "    </tr>\n",
       "  </thead>\n",
       "  <tbody>\n",
       "    <tr>\n",
       "      <th>count</th>\n",
       "      <td>34.000000</td>\n",
       "      <td>34.000000</td>\n",
       "    </tr>\n",
       "    <tr>\n",
       "      <th>mean</th>\n",
       "      <td>430.962471</td>\n",
       "      <td>591.202412</td>\n",
       "    </tr>\n",
       "    <tr>\n",
       "      <th>std</th>\n",
       "      <td>269.211470</td>\n",
       "      <td>376.418051</td>\n",
       "    </tr>\n",
       "    <tr>\n",
       "      <th>min</th>\n",
       "      <td>133.239000</td>\n",
       "      <td>202.614000</td>\n",
       "    </tr>\n",
       "    <tr>\n",
       "      <th>25%</th>\n",
       "      <td>233.021500</td>\n",
       "      <td>327.769500</td>\n",
       "    </tr>\n",
       "    <tr>\n",
       "      <th>50%</th>\n",
       "      <td>355.235500</td>\n",
       "      <td>436.712500</td>\n",
       "    </tr>\n",
       "    <tr>\n",
       "      <th>75%</th>\n",
       "      <td>516.616500</td>\n",
       "      <td>699.735250</td>\n",
       "    </tr>\n",
       "    <tr>\n",
       "      <th>max</th>\n",
       "      <td>1209.225000</td>\n",
       "      <td>1762.015000</td>\n",
       "    </tr>\n",
       "  </tbody>\n",
       "</table>\n",
       "</div>"
      ],
      "text/plain": [
       "             daily       sunday\n",
       "count    34.000000    34.000000\n",
       "mean    430.962471   591.202412\n",
       "std     269.211470   376.418051\n",
       "min     133.239000   202.614000\n",
       "25%     233.021500   327.769500\n",
       "50%     355.235500   436.712500\n",
       "75%     516.616500   699.735250\n",
       "max    1209.225000  1762.015000"
      ]
     },
     "execution_count": 16,
     "metadata": {},
     "output_type": "execute_result"
    }
   ],
   "source": [
    "df.describe()"
   ]
  },
  {
   "cell_type": "code",
   "execution_count": 17,
   "id": "4bed32fa-9549-4d53-87f7-603c32ccc5b3",
   "metadata": {},
   "outputs": [
    {
     "data": {
      "text/plain": [
       "0.9180596895873294"
      ]
     },
     "execution_count": 17,
     "metadata": {},
     "output_type": "execute_result"
    }
   ],
   "source": [
    "model().rsquared\n",
    "# rsquared (ratio of predicted and actual values)\n",
    "# infer daily and sunday edition are related to each other by 91 percent"
   ]
  },
  {
   "cell_type": "code",
   "execution_count": 18,
   "id": "64174b11-474e-4522-bd98-e05e14f6cccf",
   "metadata": {},
   "outputs": [
    {
     "data": {
      "text/plain": [
       "<matplotlib.collections.PathCollection at 0x12436f7810>"
      ]
     },
     "execution_count": 18,
     "metadata": {},
     "output_type": "execute_result"
    },
    {
     "data": {
      "image/png": "[encoded data removed]",
      "text/plain": [
       "<Figure size 640x480 with 1 Axes>"
      ]
     },
     "metadata": {},
     "output_type": "display_data"
    }
   ],
   "source": [
    "# Scatter Plot (numeric plot)\n",
    "import matplotlib.pyplot as plt\n",
    "exp=[0,1,2,4,5,6]\n",
    "salary=[10,20,30,40,80,100]\n",
    "plt.xlabel('exprience of person')\n",
    "plt.ylabel('salary of person in dollors')\n",
    "plt.scatter(exp,salary)"
   ]
  }
 ],
 "metadata": {
  "kernelspec": {
   "display_name": "Python 3 (ipykernel)",
   "language": "python",
   "name": "python3"
  },
  "language_info": {
   "codemirror_mode": {
    "name": "ipython",
    "version": 3
   },
   "file_extension": ".py",
   "mimetype": "text/x-python",
   "name": "python",
   "nbconvert_exporter": "python",
   "pygments_lexer": "ipython3",
   "version": "3.12.7"
  }
 },
 "nbformat": 4,
 "nbformat_minor": 5
}
